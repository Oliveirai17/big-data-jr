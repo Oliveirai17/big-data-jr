{
 "cells": [
  {
   "cell_type": "code",
   "execution_count": 32,
   "id": "92ebd874",
   "metadata": {},
   "outputs": [],
   "source": [
    "#Importações\n",
    "from pyspark.sql import SparkSession\n",
    "from pyspark.sql.functions import col, desc\n",
    "spark = SparkSession.builder.appName(\"covid\").getOrCreate();"
   ]
  },
  {
   "cell_type": "code",
   "execution_count": 33,
   "id": "7dd8ce27",
   "metadata": {},
   "outputs": [],
   "source": [
    "df = spark.read.csv('covid_19_data.csv', inferSchema=True, header=True)"
   ]
  },
  {
   "cell_type": "code",
   "execution_count": 34,
   "id": "96d92a38",
   "metadata": {},
   "outputs": [
    {
     "data": {
      "text/plain": [
       "pyspark.sql.dataframe.DataFrame"
      ]
     },
     "execution_count": 34,
     "metadata": {},
     "output_type": "execute_result"
    }
   ],
   "source": [
    "type(df)"
   ]
  },
  {
   "cell_type": "code",
   "execution_count": 35,
   "id": "65ab6d5e",
   "metadata": {},
   "outputs": [],
   "source": [
    "#Importando sql\n",
    "from pyspark.sql import SQLContext"
   ]
  },
  {
   "cell_type": "code",
   "execution_count": 36,
   "id": "e0e5580c",
   "metadata": {},
   "outputs": [],
   "source": [
    "# createOrReplaceTempView -> criar uma visão temporária com o nome myTable (visão permite acessar os dados como uma tabela SQL)\n",
    "df.createOrReplaceTempView(\"coronaTable\")"
   ]
  },
  {
   "cell_type": "code",
   "execution_count": 39,
   "id": "91e58c8c",
   "metadata": {},
   "outputs": [
    {
     "name": "stdout",
     "output_type": "stream",
     "text": [
      "+---+---------------+--------------+--------------+---------------+---------+------+---------+\n",
      "|SNo|ObservationDate|Province/State|Country/Region|    Last Update|Confirmed|Deaths|Recovered|\n",
      "+---+---------------+--------------+--------------+---------------+---------+------+---------+\n",
      "| 36|     01/22/2020|          null|         Japan|1/22/2020 17:00|      2.0|   0.0|      0.0|\n",
      "| 37|     01/22/2020|          null|      Thailand|1/22/2020 17:00|      4.0|   0.0|      2.0|\n",
      "| 38|     01/22/2020|          null|   South Korea|1/22/2020 17:00|      1.0|   0.0|      0.0|\n",
      "| 75|     01/23/2020|          null|         Japan|  1/23/20 17:00|      1.0|   0.0|      0.0|\n",
      "| 76|     01/23/2020|          null|      Thailand|  1/23/20 17:00|      4.0|   0.0|      2.0|\n",
      "| 77|     01/23/2020|          null|   South Korea|  1/23/20 17:00|      1.0|   0.0|      0.0|\n",
      "| 78|     01/23/2020|          null|     Singapore|  1/23/20 17:00|      1.0|   0.0|      0.0|\n",
      "| 79|     01/23/2020|          null|   Philippines|  1/23/20 17:00|      0.0|   0.0|      0.0|\n",
      "| 80|     01/23/2020|          null|      Malaysia|  1/23/20 17:00|      0.0|   0.0|      0.0|\n",
      "| 81|     01/23/2020|          null|       Vietnam|  1/23/20 17:00|      2.0|   0.0|      0.0|\n",
      "| 82|     01/23/2020|          null|     Australia|  1/23/20 17:00|      0.0|   0.0|      0.0|\n",
      "| 83|     01/23/2020|          null|        Mexico|  1/23/20 17:00|      0.0|   0.0|      0.0|\n",
      "| 84|     01/23/2020|          null|        Brazil|  1/23/20 17:00|      0.0|   0.0|      0.0|\n",
      "| 85|     01/23/2020|          null|      Colombia|  1/23/20 17:00|      0.0|   0.0|      0.0|\n",
      "|122|     01/24/2020|          null|         Japan|  1/24/20 17:00|      2.0|   0.0|      0.0|\n",
      "|123|     01/24/2020|          null|      Thailand|  1/24/20 17:00|      5.0|   0.0|      3.0|\n",
      "|124|     01/24/2020|          null|   South Korea|  1/24/20 17:00|      2.0|   0.0|      0.0|\n",
      "|125|     01/24/2020|          null|     Singapore|  1/24/20 17:00|      3.0|   0.0|      0.0|\n",
      "|126|     01/24/2020|          null|       Vietnam|  1/24/20 17:00|      2.0|   0.0|      0.0|\n",
      "|127|     01/24/2020|          null|        France|  1/24/20 17:00|      2.0|   0.0|      0.0|\n",
      "+---+---------------+--------------+--------------+---------------+---------+------+---------+\n",
      "only showing top 20 rows\n",
      "\n"
     ]
    }
   ],
   "source": [
    "#df.filter(df['Province/State'].isNull()).count()\n",
    "#df.na.fill('0',subset=['Deaths']).show()\n",
    "sql = spark.sql(\"select * from coronaTable where `Province/State` is null\")\n",
    "sql.show()"
   ]
  },
  {
   "cell_type": "code",
   "execution_count": 40,
   "id": "2943dfa8",
   "metadata": {},
   "outputs": [
    {
     "name": "stdout",
     "output_type": "stream",
     "text": [
      "+---+---------------+--------------+--------------+---------------+---------+------+---------+\n",
      "|SNo|ObservationDate|Province/State|Country/Region|    Last Update|Confirmed|Deaths|Recovered|\n",
      "+---+---------------+--------------+--------------+---------------+---------+------+---------+\n",
      "|  1|     01/22/2020|         Anhui|Mainland China|1/22/2020 17:00|      1.0|   0.0|      0.0|\n",
      "|  2|     01/22/2020|       Beijing|Mainland China|1/22/2020 17:00|     14.0|   0.0|      0.0|\n",
      "|  3|     01/22/2020|     Chongqing|Mainland China|1/22/2020 17:00|      6.0|   0.0|      0.0|\n",
      "|  4|     01/22/2020|        Fujian|Mainland China|1/22/2020 17:00|      1.0|   0.0|      0.0|\n",
      "|  5|     01/22/2020|         Gansu|Mainland China|1/22/2020 17:00|      0.0|   0.0|      0.0|\n",
      "|  6|     01/22/2020|     Guangdong|Mainland China|1/22/2020 17:00|     26.0|   0.0|      0.0|\n",
      "|  7|     01/22/2020|       Guangxi|Mainland China|1/22/2020 17:00|      2.0|   0.0|      0.0|\n",
      "|  8|     01/22/2020|       Guizhou|Mainland China|1/22/2020 17:00|      1.0|   0.0|      0.0|\n",
      "|  9|     01/22/2020|        Hainan|Mainland China|1/22/2020 17:00|      4.0|   0.0|      0.0|\n",
      "| 10|     01/22/2020|         Hebei|Mainland China|1/22/2020 17:00|      1.0|   0.0|      0.0|\n",
      "+---+---------------+--------------+--------------+---------------+---------+------+---------+\n",
      "only showing top 10 rows\n",
      "\n"
     ]
    }
   ],
   "source": [
    "#preencher com valores 0 a coluna 'Deaths' quando houver valor null\n",
    "df.na.fill(0,subset=['Deaths']).show(10)"
   ]
  },
  {
   "cell_type": "code",
   "execution_count": 41,
   "id": "46239a1a",
   "metadata": {},
   "outputs": [
    {
     "name": "stdout",
     "output_type": "stream",
     "text": [
      "+---+---------------+--------------+--------------+---------------+---------+------+---------+\n",
      "|SNo|ObservationDate|Province/State|Country/Region|    Last Update|Confirmed|Deaths|Recovered|\n",
      "+---+---------------+--------------+--------------+---------------+---------+------+---------+\n",
      "| 36|     01/22/2020|          null|         Japan|1/22/2020 17:00|      2.0|   0.0|      0.0|\n",
      "| 37|     01/22/2020|          null|      Thailand|1/22/2020 17:00|      4.0|   0.0|      2.0|\n",
      "| 38|     01/22/2020|          null|   South Korea|1/22/2020 17:00|      1.0|   0.0|      0.0|\n",
      "| 75|     01/23/2020|          null|         Japan|  1/23/20 17:00|      1.0|   0.0|      0.0|\n",
      "| 76|     01/23/2020|          null|      Thailand|  1/23/20 17:00|      4.0|   0.0|      2.0|\n",
      "| 77|     01/23/2020|          null|   South Korea|  1/23/20 17:00|      1.0|   0.0|      0.0|\n",
      "| 78|     01/23/2020|          null|     Singapore|  1/23/20 17:00|      1.0|   0.0|      0.0|\n",
      "| 79|     01/23/2020|          null|   Philippines|  1/23/20 17:00|      0.0|   0.0|      0.0|\n",
      "| 80|     01/23/2020|          null|      Malaysia|  1/23/20 17:00|      0.0|   0.0|      0.0|\n",
      "| 81|     01/23/2020|          null|       Vietnam|  1/23/20 17:00|      2.0|   0.0|      0.0|\n",
      "+---+---------------+--------------+--------------+---------------+---------+------+---------+\n",
      "only showing top 10 rows\n",
      "\n"
     ]
    }
   ],
   "source": [
    "sql.show(10)"
   ]
  },
  {
   "cell_type": "code",
   "execution_count": 42,
   "id": "c4f0d638",
   "metadata": {},
   "outputs": [],
   "source": [
    "#importando when e col para processar os dados da coluna flag\n",
    "from pyspark.sql.functions import when"
   ]
  },
  {
   "cell_type": "code",
   "execution_count": 43,
   "id": "17adb9b8",
   "metadata": {},
   "outputs": [],
   "source": [
    "# criando outro DataFrame (sobrescrevendo ) o DataFrame anterior, alteramos a coluna 'Province/State' quando ela possuísse valor null para 'N/A', caso contrário, retornamos o valor já existente\n",
    "df = df.withColumn( 'Province/State', when ( col ('Province/State').isNull() , 'N/A' ).otherwise(df['Province/State'])   )"
   ]
  },
  {
   "cell_type": "code",
   "execution_count": 44,
   "id": "78ccb7ff",
   "metadata": {},
   "outputs": [
    {
     "name": "stdout",
     "output_type": "stream",
     "text": [
      "+---+---------------+--------------+--------------+-----------+---------+------+---------+\n",
      "|SNo|ObservationDate|Province/State|Country/Region|Last Update|Confirmed|Deaths|Recovered|\n",
      "+---+---------------+--------------+--------------+-----------+---------+------+---------+\n",
      "+---+---------------+--------------+--------------+-----------+---------+------+---------+\n",
      "\n"
     ]
    }
   ],
   "source": [
    "# filtrando a coluna 'Province/State' para verificar se ainda possui valores nulos\n",
    "df.filter ( df['Province/State'].isNull() ).show(1)"
   ]
  },
  {
   "cell_type": "code",
   "execution_count": 45,
   "id": "3ee0be59",
   "metadata": {},
   "outputs": [
    {
     "name": "stdout",
     "output_type": "stream",
     "text": [
      "root\n",
      " |-- SNo: integer (nullable = true)\n",
      " |-- ObservationDate: string (nullable = true)\n",
      " |-- Province/State: string (nullable = true)\n",
      " |-- Country/Region: string (nullable = true)\n",
      " |-- Last Update: string (nullable = true)\n",
      " |-- Confirmed: double (nullable = true)\n",
      " |-- Deaths: double (nullable = true)\n",
      " |-- Recovered: double (nullable = true)\n",
      "\n"
     ]
    }
   ],
   "source": [
    "df.printSchema()"
   ]
  },
  {
   "cell_type": "code",
   "execution_count": 46,
   "id": "0eedd95b",
   "metadata": {},
   "outputs": [
    {
     "data": {
      "text/plain": [
       "['SNo',\n",
       " 'ObservationDate',\n",
       " 'Province/State',\n",
       " 'Country/Region',\n",
       " 'Last Update',\n",
       " 'Confirmed',\n",
       " 'Deaths',\n",
       " 'Recovered']"
      ]
     },
     "execution_count": 46,
     "metadata": {},
     "output_type": "execute_result"
    }
   ],
   "source": [
    "df.columns"
   ]
  },
  {
   "cell_type": "code",
   "execution_count": 47,
   "id": "6d9354e0",
   "metadata": {},
   "outputs": [
    {
     "name": "stdout",
     "output_type": "stream",
     "text": [
      "+---+---------------+--------------+--------------+---------------+---------+------+---------+\n",
      "|SNo|ObservationDate|Province/State|Country/Region|    Last Update|Confirmed|Deaths|Recovered|\n",
      "+---+---------------+--------------+--------------+---------------+---------+------+---------+\n",
      "|  1|     01/22/2020|         Anhui|Mainland China|1/22/2020 17:00|      1.0|   0.0|      0.0|\n",
      "|  2|     01/22/2020|       Beijing|Mainland China|1/22/2020 17:00|     14.0|   0.0|      0.0|\n",
      "|  3|     01/22/2020|     Chongqing|Mainland China|1/22/2020 17:00|      6.0|   0.0|      0.0|\n",
      "+---+---------------+--------------+--------------+---------------+---------+------+---------+\n",
      "only showing top 3 rows\n",
      "\n"
     ]
    }
   ],
   "source": [
    "df.show(3)"
   ]
  },
  {
   "cell_type": "code",
   "execution_count": 48,
   "id": "e9083b88",
   "metadata": {},
   "outputs": [
    {
     "name": "stdout",
     "output_type": "stream",
     "text": [
      "+--------------+-----------+\n",
      "|Country/Region|max(Deaths)|\n",
      "+--------------+-----------+\n",
      "|            UK|   112182.0|\n",
      "|        France|   104093.0|\n",
      "|        Brazil|    97058.0|\n",
      "|          Iran|    72484.0|\n",
      "|         India|    69615.0|\n",
      "|        Poland|    68068.0|\n",
      "|     Argentina|    64252.0|\n",
      "|            US|    62078.0|\n",
      "|  South Africa|    54417.0|\n",
      "|     Indonesia|    45796.0|\n",
      "+--------------+-----------+\n",
      "only showing top 10 rows\n",
      "\n"
     ]
    }
   ],
   "source": [
    "#Ranking dos paises com mais mortes\n",
    "fdgp = df.groupBy(\"Country/Region\").max()\n",
    "fdgp.sort( col (\"max(Deaths)\").desc()).select([\"Country/Region\",\"max(Deaths)\"]).show(10)"
   ]
  },
  {
   "cell_type": "code",
   "execution_count": 49,
   "id": "3b9e6252",
   "metadata": {},
   "outputs": [
    {
     "name": "stdout",
     "output_type": "stream",
     "text": [
      "+--------------+--------------+\n",
      "|Country/Region|max(Confirmed)|\n",
      "+--------------+--------------+\n",
      "|        France|     5605532.0|\n",
      "|        Turkey|     4875388.0|\n",
      "|         India|     4665754.0|\n",
      "|            UK|     3861901.0|\n",
      "|            US|     3744830.0|\n",
      "|     Argentina|     3005259.0|\n",
      "|        Brazil|     2923367.0|\n",
      "|        Poland|     2803233.0|\n",
      "|          Iran|     2534855.0|\n",
      "|     Indonesia|     1677274.0|\n",
      "+--------------+--------------+\n",
      "only showing top 10 rows\n",
      "\n"
     ]
    }
   ],
   "source": [
    "#Pais com mais infectados\n",
    "dfCountry = df.groupBy(\"Country/Region\").max()\n",
    "dfCountry.sort(col(\"max(Confirmed)\").desc()).select([\"Country/Region\",\"max(Confirmed)\"]).show(10)"
   ]
  },
  {
   "cell_type": "code",
   "execution_count": 50,
   "id": "f37db641",
   "metadata": {},
   "outputs": [
    {
     "name": "stdout",
     "output_type": "stream",
     "text": [
      "+--------------+--------------+\n",
      "|Country/Region|max(Recovered)|\n",
      "+--------------+--------------+\n",
      "|            US|     6399531.0|\n",
      "|        Turkey|     4480381.0|\n",
      "|         India|     3930302.0|\n",
      "|     Argentina|     2676197.0|\n",
      "|        Brazil|     2588973.0|\n",
      "|        Poland|     2520968.0|\n",
      "|          Iran|     1988165.0|\n",
      "|        Mexico|     1869529.0|\n",
      "|          Peru|     1748170.0|\n",
      "|Czech Republic|     1555215.0|\n",
      "+--------------+--------------+\n",
      "only showing top 10 rows\n",
      "\n"
     ]
    }
   ],
   "source": [
    "#Pais com mais recuperados\n",
    "dfCountry2 = df.groupBy(\"Country/Region\").max()\n",
    "dfCountry2.sort(col(\"max(Recovered)\").desc()).select([\"Country/Region\",\"max(Recovered)\"]).show(10)"
   ]
  },
  {
   "cell_type": "code",
   "execution_count": 51,
   "id": "8a91e409",
   "metadata": {},
   "outputs": [],
   "source": [
    "#Imports\n",
    "from pyspark.sql.functions import year\n",
    "from pyspark.sql.functions import month\n",
    "from pyspark.sql.functions import dayofmonth"
   ]
  },
  {
   "cell_type": "code",
   "execution_count": 52,
   "id": "cd25de50",
   "metadata": {},
   "outputs": [],
   "source": [
    "from pyspark.sql.functions import unix_timestamp, to_date"
   ]
  },
  {
   "cell_type": "code",
   "execution_count": 53,
   "id": "ebce917a",
   "metadata": {},
   "outputs": [],
   "source": [
    "df = df.withColumn('ObservationDate',to_date(unix_timestamp(col(\"ObservationDate\"), 'MM/dd/yyyy').cast('timestamp')))"
   ]
  },
  {
   "cell_type": "code",
   "execution_count": 54,
   "id": "f57c509a",
   "metadata": {},
   "outputs": [
    {
     "name": "stdout",
     "output_type": "stream",
     "text": [
      "+---+---------------+--------------+--------------+---------------+---------+------+---------+\n",
      "|SNo|ObservationDate|Province/State|Country/Region|    Last Update|Confirmed|Deaths|Recovered|\n",
      "+---+---------------+--------------+--------------+---------------+---------+------+---------+\n",
      "|  1|     2020-01-22|         Anhui|Mainland China|1/22/2020 17:00|      1.0|   0.0|      0.0|\n",
      "|  2|     2020-01-22|       Beijing|Mainland China|1/22/2020 17:00|     14.0|   0.0|      0.0|\n",
      "|  3|     2020-01-22|     Chongqing|Mainland China|1/22/2020 17:00|      6.0|   0.0|      0.0|\n",
      "|  4|     2020-01-22|        Fujian|Mainland China|1/22/2020 17:00|      1.0|   0.0|      0.0|\n",
      "|  5|     2020-01-22|         Gansu|Mainland China|1/22/2020 17:00|      0.0|   0.0|      0.0|\n",
      "+---+---------------+--------------+--------------+---------------+---------+------+---------+\n",
      "only showing top 5 rows\n",
      "\n"
     ]
    }
   ],
   "source": [
    "df.show(5)"
   ]
  },
  {
   "cell_type": "code",
   "execution_count": 55,
   "id": "491ca2c8",
   "metadata": {},
   "outputs": [
    {
     "name": "stdout",
     "output_type": "stream",
     "text": [
      "+---------------------+\n",
      "|year(ObservationDate)|\n",
      "+---------------------+\n",
      "|                 2020|\n",
      "|                 2020|\n",
      "|                 2020|\n",
      "|                 2020|\n",
      "|                 2020|\n",
      "|                 2020|\n",
      "|                 2020|\n",
      "|                 2020|\n",
      "|                 2020|\n",
      "|                 2020|\n",
      "+---------------------+\n",
      "only showing top 10 rows\n",
      "\n"
     ]
    }
   ],
   "source": [
    "df.select(year(df['ObservationDate'])).show(10)"
   ]
  },
  {
   "cell_type": "code",
   "execution_count": 69,
   "id": "dce4f3d8",
   "metadata": {},
   "outputs": [
    {
     "name": "stdout",
     "output_type": "stream",
     "text": [
      "+----+-----------+\n",
      "|Year|max(Deaths)|\n",
      "+----+-----------+\n",
      "|2020|    64267.0|\n",
      "|2021|   112182.0|\n",
      "+----+-----------+\n",
      "\n"
     ]
    }
   ],
   "source": [
    "#Ano com mais mortes\n",
    "df = df.withColumn(\"Year\",year(df[\"ObservationDate\"]))\n",
    "dfm = df.groupBy(\"Year\").max()\n",
    "dfm.select([\"Year\",\"max(Deaths)\"]).show()"
   ]
  },
  {
   "cell_type": "code",
   "execution_count": 64,
   "id": "9aa24e30",
   "metadata": {},
   "outputs": [
    {
     "name": "stdout",
     "output_type": "stream",
     "text": [
      "+---------+----------+----------+-----------+\n",
      "|max(Year)|max(month)|DayodMonth|max(Deaths)|\n",
      "+---------+----------+----------+-----------+\n",
      "|     2021|        12|         2|   112182.0|\n",
      "|     2021|        12|         1|   112169.0|\n",
      "|     2021|        12|        30|   112163.0|\n",
      "|     2021|        12|        29|   112149.0|\n",
      "|     2021|        12|        28|   112134.0|\n",
      "|     2021|        12|        27|   112107.0|\n",
      "|     2021|        12|        26|   112091.0|\n",
      "|     2021|        12|        25|   112088.0|\n",
      "|     2021|        12|        24|   112081.0|\n",
      "|     2021|        12|        23|   112054.0|\n",
      "|     2021|        12|        22|   112016.0|\n",
      "|     2021|        12|        21|   112005.0|\n",
      "|     2021|        12|        20|   111985.0|\n",
      "|     2021|        12|        19|   111957.0|\n",
      "|     2021|        12|        18|   111955.0|\n",
      "|     2021|        12|        17|   111948.0|\n",
      "|     2021|        12|        16|   111917.0|\n",
      "|     2021|        12|        15|   111887.0|\n",
      "|     2021|        12|        14|   111862.0|\n",
      "|     2021|        12|        13|   111828.0|\n",
      "+---------+----------+----------+-----------+\n",
      "only showing top 20 rows\n",
      "\n"
     ]
    }
   ],
   "source": [
    "#Mes com mais mortes\n",
    "df = df.withColumn(\"Month\",month(df[\"ObservationDate\"]))\n",
    "dfmo = df.groupBy(\"Month\").max()\n",
    "dfmo.sort(col(\"max(Deaths)\").desc()).select([\"max(Year)\",\"max(month)\",\"DayodMonth\",\"max(Deaths)\"]).show()"
   ]
  },
  {
   "cell_type": "code",
   "execution_count": 27,
   "id": "6e03638e",
   "metadata": {},
   "outputs": [
    {
     "name": "stdout",
     "output_type": "stream",
     "text": [
      "+----------+-----------+\n",
      "|DayofMonth|max(Deaths)|\n",
      "+----------+-----------+\n",
      "|        31|   111489.0|\n",
      "|        28|   112134.0|\n",
      "|        26|   112091.0|\n",
      "|        27|   112107.0|\n",
      "|        12|   111810.0|\n",
      "|        22|   112016.0|\n",
      "|         1|   112169.0|\n",
      "|        13|   111828.0|\n",
      "|         6|   111626.0|\n",
      "|        16|   111917.0|\n",
      "|         3|   111585.0|\n",
      "|        20|   111985.0|\n",
      "|         5|   111611.0|\n",
      "|        19|   111957.0|\n",
      "|        15|   111887.0|\n",
      "|         9|   111761.0|\n",
      "|        17|   111948.0|\n",
      "|         4|   111595.0|\n",
      "|         8|   111710.0|\n",
      "|        23|   112054.0|\n",
      "+----------+-----------+\n",
      "only showing top 20 rows\n",
      "\n"
     ]
    }
   ],
   "source": [
    "#Dias com mais mortes\n",
    "\n",
    "df = df.withColumn(\"DayofMonth\",dayofmonth(df[\"ObservationDate\"]))\n",
    "dfd = df.groupBy(\"DayofMonth\").max()\n",
    "dfd.sort(col(\"max(Deaths)\").desc()).select([\"max(Year)\",\"max(month)\",\"DayofMonth\",\"max(Deaths)\"]).show()"
   ]
  },
  {
   "cell_type": "code",
   "execution_count": null,
   "id": "e9e03a12",
   "metadata": {},
   "outputs": [],
   "source": [
    "\n"
   ]
  },
  {
   "cell_type": "code",
   "execution_count": 39,
   "id": "3271f660",
   "metadata": {},
   "outputs": [
    {
     "name": "stdout",
     "output_type": "stream",
     "text": [
      "+--------------+-----------+\n",
      "|Province/State|max(Deaths)|\n",
      "+--------------+-----------+\n",
      "|       England|   112182.0|\n",
      "|           N/A|   104093.0|\n",
      "|     Sao Paulo|    97058.0|\n",
      "|   Maharashtra|    69615.0|\n",
      "|    California|    62078.0|\n",
      "|      New York|    52358.0|\n",
      "|         Texas|    50290.0|\n",
      "|Rio de Janeiro|    44835.0|\n",
      "|       Florida|    35268.0|\n",
      "|  Minas Gerais|    34289.0|\n",
      "+--------------+-----------+\n",
      "only showing top 10 rows\n",
      "\n"
     ]
    }
   ],
   "source": [
    "#Provincia com mais mortes\n",
    "dfpro = df.groupBy(\"Province/State\").max()\n",
    "dfpro.sort(col(\"max(Deaths)\").desc()).select([\"Province/State\",\"max(Deaths)\"]).show(10)"
   ]
  },
  {
   "cell_type": "code",
   "execution_count": 43,
   "id": "2a4c9dd2",
   "metadata": {},
   "outputs": [
    {
     "name": "stdout",
     "output_type": "stream",
     "text": [
      "+--------------------+\n",
      "|      Province/State|\n",
      "+--------------------+\n",
      "|                Utah|\n",
      "|           Cajamarca|\n",
      "|             Antwerp|\n",
      "|              Hawaii|\n",
      "|               Pasco|\n",
      "|     Vastra Gotaland|\n",
      "|Riverside County, CA|\n",
      "|            Manitoba|\n",
      "|            Anguilla|\n",
      "|            Arequipa|\n",
      "|   Dagestan Republic|\n",
      "|       Kaluga Oblast|\n",
      "|Unknown Location, MA|\n",
      "|               Kochi|\n",
      "| Okaloosa County, FL|\n",
      "|            Nagaland|\n",
      "|   Washoe County, NV|\n",
      "|  El Paso County, CO|\n",
      "|           Karnataka|\n",
      "|        Cundinamarca|\n",
      "+--------------------+\n",
      "only showing top 20 rows\n",
      "\n"
     ]
    }
   ],
   "source": [
    "sql1 = spark.sql(\"select distinct `Province/State` from coronaTable\").show()"
   ]
  },
  {
   "cell_type": "code",
   "execution_count": 78,
   "id": "d8868139",
   "metadata": {},
   "outputs": [],
   "source": [
    "dfGroupBy = df.groupBy('Year','Month','Country/Region' ).sum()"
   ]
  },
  {
   "cell_type": "code",
   "execution_count": 80,
   "id": "b5c403e8",
   "metadata": {},
   "outputs": [
    {
     "name": "stdout",
     "output_type": "stream",
     "text": [
      "+----+-----+--------------+--------+--------------+-----------+--------------+---------+----------+---------------+\n",
      "|Year|Month|Country/Region|sum(SNo)|sum(Confirmed)|sum(Deaths)|sum(Recovered)|sum(Year)|sum(Month)|sum(DayodMonth)|\n",
      "+----+-----+--------------+--------+--------------+-----------+--------------+---------+----------+---------------+\n",
      "|2021|    5|            US|33018698|   6.4813808E7|  1153767.0|           0.0|   234436|       580|            174|\n",
      "|2021|    5|        Brazil|15369662|   2.9480885E7|   814076.0|   2.6107442E7|   109134|       270|             81|\n",
      "|2021|    5|        Mexico|18786036|     4696653.0|   434401.0|     3736720.0|   133386|       330|             99|\n",
      "|2021|    5|         India|21061384|   3.9114914E7|   431084.0|   3.1984542E7|   149554|       370|            111|\n",
      "|2021|    5|            UK| 9107032|     8869988.0|   255578.0|       29368.0|    64672|       160|             48|\n",
      "+----+-----+--------------+--------+--------------+-----------+--------------+---------+----------+---------------+\n",
      "only showing top 5 rows\n",
      "\n"
     ]
    }
   ],
   "source": [
    "dfGroupBy.sort(col('Year').desc(),col('Month').desc(),col('sum(Deaths)').desc()).show(5)"
   ]
  },
  {
   "cell_type": "code",
   "execution_count": null,
   "id": "56ca7e6e",
   "metadata": {},
   "outputs": [],
   "source": []
  }
 ],
 "metadata": {
  "kernelspec": {
   "display_name": "Python 3",
   "language": "python",
   "name": "python3"
  },
  "language_info": {
   "codemirror_mode": {
    "name": "ipython",
    "version": 3
   },
   "file_extension": ".py",
   "mimetype": "text/x-python",
   "name": "python",
   "nbconvert_exporter": "python",
   "pygments_lexer": "ipython3",
   "version": "3.9.4"
  }
 },
 "nbformat": 4,
 "nbformat_minor": 5
}
