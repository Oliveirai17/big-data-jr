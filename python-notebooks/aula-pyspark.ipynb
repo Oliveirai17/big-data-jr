{
 "cells": [
  {
   "cell_type": "code",
   "execution_count": 1,
   "id": "bb611b72",
   "metadata": {},
   "outputs": [],
   "source": [
    "#Importação\n",
    "from pyspark.sql import SparkSession \n",
    "spark = SparkSession.builder.appName(\"aula-pyspark\").getOrCreate();"
   ]
  },
  {
   "cell_type": "code",
   "execution_count": 2,
   "id": "fd6adf27",
   "metadata": {},
   "outputs": [],
   "source": [
    "df = spark.read.csv('ABT.csv', inferSchema=True, header=True)"
   ]
  },
  {
   "cell_type": "code",
   "execution_count": 3,
   "id": "34fe7c8c",
   "metadata": {},
   "outputs": [
    {
     "data": {
      "text/plain": [
       "pyspark.sql.dataframe.DataFrame"
      ]
     },
     "execution_count": 3,
     "metadata": {},
     "output_type": "execute_result"
    }
   ],
   "source": [
    "type(df)"
   ]
  },
  {
   "cell_type": "code",
   "execution_count": 4,
   "id": "34c7ad27",
   "metadata": {},
   "outputs": [
    {
     "name": "stdout",
     "output_type": "stream",
     "text": [
      "root\n",
      " |-- date: string (nullable = true)\n",
      " |-- volume: integer (nullable = true)\n",
      " |-- open: double (nullable = true)\n",
      " |-- high: double (nullable = true)\n",
      " |-- low: double (nullable = true)\n",
      " |-- close: double (nullable = true)\n",
      " |-- adjclose: double (nullable = true)\n",
      "\n"
     ]
    }
   ],
   "source": [
    "#Mostrar os tipos das colunas SCHEMA\n",
    "df.printSchema()"
   ]
  },
  {
   "cell_type": "code",
   "execution_count": 5,
   "id": "17f5daf4",
   "metadata": {},
   "outputs": [
    {
     "data": {
      "text/plain": [
       "['date', 'volume', 'open', 'high', 'low', 'close', 'adjclose']"
      ]
     },
     "execution_count": 5,
     "metadata": {},
     "output_type": "execute_result"
    }
   ],
   "source": [
    "#Mostrar as colunas\n",
    "df.columns"
   ]
  },
  {
   "cell_type": "code",
   "execution_count": 6,
   "id": "cc7660a7",
   "metadata": {},
   "outputs": [
    {
     "name": "stdout",
     "output_type": "stream",
     "text": [
      "+----------+-------+-----------------+-----------------+-----------------+-----------------+-----------------+\n",
      "|      date| volume|             open|             high|              low|            close|         adjclose|\n",
      "+----------+-------+-----------------+-----------------+-----------------+-----------------+-----------------+\n",
      "|2020-07-02|3845300|             92.5|93.05999755859375|91.93000030517578| 92.2300033569336| 92.2300033569336|\n",
      "|2020-07-01|3389600| 91.9800033569336| 91.9800033569336|90.43000030517578|91.63999938964844|91.63999938964844|\n",
      "|2020-06-30|5220900|            88.75| 91.9000015258789|88.44000244140625|91.43000030517578|91.43000030517578|\n",
      "|2020-06-29|4669300|89.58000183105469|89.69999694824219|88.08999633789062|89.01000213623047|89.01000213623047|\n",
      "|2020-06-26|8522500|89.81999969482422|89.94999694824219|87.94000244140625|88.70999908447266|88.70999908447266|\n",
      "+----------+-------+-----------------+-----------------+-----------------+-----------------+-----------------+\n",
      "only showing top 5 rows\n",
      "\n"
     ]
    }
   ],
   "source": [
    "#Mostrar 5 dados\n",
    "df.show(5)"
   ]
  },
  {
   "cell_type": "code",
   "execution_count": 7,
   "id": "a85c6289",
   "metadata": {},
   "outputs": [
    {
     "name": "stdout",
     "output_type": "stream",
     "text": [
      "+----------+-------+-----------------+-----------------+-----------------+-----------------+-----------------+\n",
      "|      date| volume|             open|             high|              low|            close|         adjclose|\n",
      "+----------+-------+-----------------+-----------------+-----------------+-----------------+-----------------+\n",
      "|2020-07-01|3389600| 91.9800033569336| 91.9800033569336|90.43000030517578|91.63999938964844|91.63999938964844|\n",
      "|2020-06-30|5220900|            88.75| 91.9000015258789|88.44000244140625|91.43000030517578|91.43000030517578|\n",
      "|2020-06-29|4669300|89.58000183105469|89.69999694824219|88.08999633789062|89.01000213623047|89.01000213623047|\n",
      "+----------+-------+-----------------+-----------------+-----------------+-----------------+-----------------+\n",
      "only showing top 3 rows\n",
      "\n"
     ]
    }
   ],
   "source": [
    "#Filtro + show para mostrar\n",
    "df.filter(\"open < 92\").show(3)"
   ]
  },
  {
   "cell_type": "code",
   "execution_count": 8,
   "id": "c53469ad",
   "metadata": {},
   "outputs": [
    {
     "name": "stdout",
     "output_type": "stream",
     "text": [
      "+----------+-------+----------------+-----------------+-----------------+-----------------+-----------------+\n",
      "|      date| volume|            open|             high|              low|            close|         adjclose|\n",
      "+----------+-------+----------------+-----------------+-----------------+-----------------+-----------------+\n",
      "|2020-07-02|3845300|            92.5|93.05999755859375|91.93000030517578| 92.2300033569336| 92.2300033569336|\n",
      "|2020-07-01|3389600|91.9800033569336| 91.9800033569336|90.43000030517578|91.63999938964844|91.63999938964844|\n",
      "|2020-06-30|5220900|           88.75| 91.9000015258789|88.44000244140625|91.43000030517578|91.43000030517578|\n",
      "+----------+-------+----------------+-----------------+-----------------+-----------------+-----------------+\n",
      "only showing top 3 rows\n",
      "\n"
     ]
    }
   ],
   "source": [
    "#Filtro 2\n",
    "df.filter( (df[\"open\"] < 93) ).show(3)"
   ]
  },
  {
   "cell_type": "code",
   "execution_count": 9,
   "id": "f57af685",
   "metadata": {},
   "outputs": [
    {
     "name": "stdout",
     "output_type": "stream",
     "text": [
      "+----------------+-----------------+\n",
      "|            open|            close|\n",
      "+----------------+-----------------+\n",
      "|            92.5| 92.2300033569336|\n",
      "|91.9800033569336|91.63999938964844|\n",
      "|           88.75|91.43000030517578|\n",
      "+----------------+-----------------+\n",
      "only showing top 3 rows\n",
      "\n"
     ]
    }
   ],
   "source": [
    "#Filtrando com colunas especificas\n",
    "df.filter ( ( df[\"open\"] < 93) ).select([\"open\",\"close\"]).show(3)"
   ]
  },
  {
   "cell_type": "code",
   "execution_count": 11,
   "id": "ec01e8eb",
   "metadata": {},
   "outputs": [],
   "source": [
    "#Criando outro DF a partir do antigo\n",
    "dfCloseOpen = df.withColumn(\"close/open\", df[\"close\"]/df[\"open\"])"
   ]
  },
  {
   "cell_type": "code",
   "execution_count": 12,
   "id": "34ae0302",
   "metadata": {},
   "outputs": [
    {
     "data": {
      "text/plain": [
       "pyspark.sql.dataframe.DataFrame"
      ]
     },
     "execution_count": 12,
     "metadata": {},
     "output_type": "execute_result"
    }
   ],
   "source": [
    "type(dfCloseOpen)"
   ]
  },
  {
   "cell_type": "code",
   "execution_count": 13,
   "id": "521c64d0",
   "metadata": {},
   "outputs": [
    {
     "name": "stdout",
     "output_type": "stream",
     "text": [
      "+-----------------+----------------+------------------+\n",
      "|            close|            open|        close/open|\n",
      "+-----------------+----------------+------------------+\n",
      "| 92.2300033569336|            92.5| 0.997081117372255|\n",
      "|91.63999938964844|91.9800033569336|0.9963035012516172|\n",
      "|91.43000030517578|           88.75| 1.030197186537192|\n",
      "+-----------------+----------------+------------------+\n",
      "only showing top 3 rows\n",
      "\n"
     ]
    }
   ],
   "source": [
    "#Mostrando as colunas\n",
    "dfCloseOpen.select([\"close\",\"open\",\"close/open\"]).show(3)"
   ]
  },
  {
   "cell_type": "code",
   "execution_count": 14,
   "id": "a2fa1bc5",
   "metadata": {},
   "outputs": [],
   "source": [
    "#Calculando maximo e minimo\n",
    "#imports\n",
    "from pyspark.sql.functions import max,min"
   ]
  },
  {
   "cell_type": "code",
   "execution_count": 15,
   "id": "967d5b84",
   "metadata": {},
   "outputs": [
    {
     "name": "stdout",
     "output_type": "stream",
     "text": [
      "+------------------+\n",
      "|   max(close/open)|\n",
      "+------------------+\n",
      "|1.1166077691829603|\n",
      "+------------------+\n",
      "\n"
     ]
    }
   ],
   "source": [
    "dfCloseOpen.select(max(\"close/open\")).show()"
   ]
  },
  {
   "cell_type": "code",
   "execution_count": 16,
   "id": "8e536d28",
   "metadata": {},
   "outputs": [
    {
     "name": "stdout",
     "output_type": "stream",
     "text": [
      "+------------------+\n",
      "|   min(close/open)|\n",
      "+------------------+\n",
      "|0.9078590266226547|\n",
      "+------------------+\n",
      "\n"
     ]
    }
   ],
   "source": [
    "dfCloseOpen.select(min(\"close/open\")).show()"
   ]
  },
  {
   "cell_type": "code",
   "execution_count": null,
   "id": "85305476",
   "metadata": {},
   "outputs": [],
   "source": [
    "#dfCloseOpen = dfCloseOpen.withColumn('flag', '1' if(dfCloseOpen['close/open'] > 1 else '0'))\n",
    "#if ternario\n",
    "X=10\n",
    "print(\"par\" if (x % 2 == 0) else \"par\")"
   ]
  },
  {
   "cell_type": "code",
   "execution_count": 17,
   "id": "b3d9bb61",
   "metadata": {},
   "outputs": [],
   "source": [
    "#Trabalhando com anos\n",
    "from pyspark.sql.functions import year"
   ]
  },
  {
   "cell_type": "code",
   "execution_count": 18,
   "id": "fd6b5dc1",
   "metadata": {},
   "outputs": [
    {
     "name": "stdout",
     "output_type": "stream",
     "text": [
      "+----------+\n",
      "|year(date)|\n",
      "+----------+\n",
      "|      2020|\n",
      "|      2020|\n",
      "|      2020|\n",
      "+----------+\n",
      "only showing top 3 rows\n",
      "\n"
     ]
    }
   ],
   "source": [
    "dfCloseOpen.select (year (dfCloseOpen['date'])).show(3)"
   ]
  },
  {
   "cell_type": "code",
   "execution_count": 19,
   "id": "fe6f91c9",
   "metadata": {},
   "outputs": [],
   "source": [
    "dfCloseOpen = dfCloseOpen.withColumn(\"Year\", year (dfCloseOpen[\"date\"]))"
   ]
  },
  {
   "cell_type": "code",
   "execution_count": 20,
   "id": "a707a31b",
   "metadata": {},
   "outputs": [
    {
     "name": "stdout",
     "output_type": "stream",
     "text": [
      "+----------+----+\n",
      "|      date|Year|\n",
      "+----------+----+\n",
      "|2020-07-02|2020|\n",
      "|2020-07-01|2020|\n",
      "|2020-06-30|2020|\n",
      "+----------+----+\n",
      "only showing top 3 rows\n",
      "\n"
     ]
    }
   ],
   "source": [
    "dfCloseOpen.select(\"date\",\"Year\").show(3)"
   ]
  },
  {
   "cell_type": "code",
   "execution_count": 21,
   "id": "169e4351",
   "metadata": {},
   "outputs": [],
   "source": [
    "#Trabalhando com mês\n",
    "from pyspark.sql.functions import month"
   ]
  },
  {
   "cell_type": "code",
   "execution_count": 25,
   "id": "68fdf482",
   "metadata": {},
   "outputs": [],
   "source": [
    "dfCloseOpen = dfCloseOpen.withColumn(\"Month\", month (dfCloseOpen[\"date\"]))"
   ]
  },
  {
   "cell_type": "code",
   "execution_count": 26,
   "id": "883217ea",
   "metadata": {},
   "outputs": [
    {
     "name": "stdout",
     "output_type": "stream",
     "text": [
      "+----------+-----+----+\n",
      "|      date|Month|Year|\n",
      "+----------+-----+----+\n",
      "|2020-07-02|    7|2020|\n",
      "|2020-07-01|    7|2020|\n",
      "|2020-06-30|    6|2020|\n",
      "+----------+-----+----+\n",
      "only showing top 3 rows\n",
      "\n"
     ]
    }
   ],
   "source": [
    "dfCloseOpen.select(\"date\",\"Month\",\"Year\").show(3)"
   ]
  },
  {
   "cell_type": "code",
   "execution_count": 27,
   "id": "740761ca",
   "metadata": {},
   "outputs": [],
   "source": [
    "#Trabalhando com dia\n",
    "from pyspark.sql.functions import dayofmonth"
   ]
  },
  {
   "cell_type": "code",
   "execution_count": 28,
   "id": "e281568e",
   "metadata": {},
   "outputs": [],
   "source": [
    "dfCloseOpen = dfCloseOpen.withColumn(\"Day\", dayofmonth (dfCloseOpen[\"date\"]))"
   ]
  },
  {
   "cell_type": "code",
   "execution_count": 29,
   "id": "a10ec1f6",
   "metadata": {},
   "outputs": [
    {
     "name": "stdout",
     "output_type": "stream",
     "text": [
      "+----------+---+-----+----+\n",
      "|      date|Day|Month|Year|\n",
      "+----------+---+-----+----+\n",
      "|2020-07-02|  2|    7|2020|\n",
      "|2020-07-01|  1|    7|2020|\n",
      "|2020-06-30| 30|    6|2020|\n",
      "+----------+---+-----+----+\n",
      "only showing top 3 rows\n",
      "\n"
     ]
    }
   ],
   "source": [
    "dfCloseOpen.select(\"date\",\"Day\",\"Month\",\"Year\").show(3)"
   ]
  },
  {
   "cell_type": "code",
   "execution_count": 30,
   "id": "a0ea1e3c",
   "metadata": {},
   "outputs": [],
   "source": [
    "#agrupar = pegar os dados de acordo com os respectivos valores iguais\n",
    "#agrupando pelo max\n",
    "dfGtoupByMax = dfCloseOpen.groupBy(\"Year\").max()"
   ]
  },
  {
   "cell_type": "code",
   "execution_count": 32,
   "id": "6b3c3582",
   "metadata": {},
   "outputs": [
    {
     "name": "stdout",
     "output_type": "stream",
     "text": [
      "+----+------------------+\n",
      "|Year|        max(close)|\n",
      "+----+------------------+\n",
      "|1990| 5.106247425079346|\n",
      "|2003| 21.16567611694336|\n",
      "|2007|28.514514923095703|\n",
      "|2018|  74.2699966430664|\n",
      "|2015| 51.20000076293945|\n",
      "|2006|23.740503311157227|\n",
      "|2013|38.709999084472656|\n",
      "|1997|15.402911186218262|\n",
      "|1988| 2.917855739593506|\n",
      "|1994| 7.547145843505859|\n",
      "|2014|46.369998931884766|\n",
      "|2019| 88.73999786376953|\n",
      "|2004|22.545801162719727|\n",
      "|1991|7.7295122146606445|\n",
      "|1982| 1.125759243965149|\n",
      "|1996| 12.73756217956543|\n",
      "|1989|  3.93489670753479|\n",
      "|1998| 22.33281898498535|\n",
      "|2020|              98.0|\n",
      "|1985| 1.967448353767395|\n",
      "+----+------------------+\n",
      "only showing top 20 rows\n",
      "\n"
     ]
    }
   ],
   "source": [
    "dfGtoupByMax.select([\"Year\",\"max(close)\"]).show()"
   ]
  },
  {
   "cell_type": "code",
   "execution_count": 34,
   "id": "7e964425",
   "metadata": {},
   "outputs": [
    {
     "name": "stdout",
     "output_type": "stream",
     "text": [
      "+----+------------------+\n",
      "|Year|        max(close)|\n",
      "+----+------------------+\n",
      "|1980|0.7925906181335449|\n",
      "|1981|0.8872806429862976|\n",
      "|1982| 1.125759243965149|\n",
      "|1983| 1.486984133720398|\n",
      "|1984|1.3467026948928833|\n",
      "|1985| 1.967448353767395|\n",
      "|1986|3.0511231422424316|\n",
      "|1987| 3.752530813217163|\n",
      "|1988| 2.917855739593506|\n",
      "|1989|  3.93489670753479|\n",
      "|1990| 5.106247425079346|\n",
      "|1991|7.7295122146606445|\n",
      "|1992|  7.64534330368042|\n",
      "|1993| 6.817682266235352|\n",
      "|1994| 7.547145843505859|\n",
      "|1995|10.016100883483887|\n",
      "|1996| 12.73756217956543|\n",
      "|1997|15.402911186218262|\n",
      "|1998| 22.33281898498535|\n",
      "|1999|23.763690948486328|\n",
      "+----+------------------+\n",
      "only showing top 20 rows\n",
      "\n"
     ]
    }
   ],
   "source": [
    "#Ordenando\n",
    "from pyspark.sql.functions import col, desc\n",
    "dfGtoupByMax.sort(\"Year\").select([\"Year\",\"max(close)\"]).show()"
   ]
  },
  {
   "cell_type": "code",
   "execution_count": 36,
   "id": "9738bd4c",
   "metadata": {},
   "outputs": [
    {
     "name": "stdout",
     "output_type": "stream",
     "text": [
      "+----+------------------+\n",
      "|Year|        max(close)|\n",
      "+----+------------------+\n",
      "|2020|              98.0|\n",
      "|2019| 88.73999786376953|\n",
      "|2018|  74.2699966430664|\n",
      "|2017|57.470001220703125|\n",
      "|2016|45.290000915527344|\n",
      "|2015| 51.20000076293945|\n",
      "|2014|46.369998931884766|\n",
      "|2013|38.709999084472656|\n",
      "|2012|34.607975006103516|\n",
      "|2011| 27.02713394165039|\n",
      "|2010|26.983951568603516|\n",
      "|2009|27.468549728393555|\n",
      "|2008| 29.02790069580078|\n",
      "|2007|28.514514923095703|\n",
      "|2006|23.740503311157227|\n",
      "|2005| 23.98520278930664|\n",
      "|2004|22.545801162719727|\n",
      "|2003| 21.16567611694336|\n",
      "|2002|25.901580810546875|\n",
      "|2001|25.484102249145508|\n",
      "+----+------------------+\n",
      "only showing top 20 rows\n",
      "\n"
     ]
    }
   ],
   "source": [
    "dfGtoupByMax.sort( col(\"Year\").desc() ).select([\"Year\", \"max(close)\"]).show()"
   ]
  },
  {
   "cell_type": "code",
   "execution_count": 38,
   "id": "08cd5d56",
   "metadata": {},
   "outputs": [],
   "source": [
    "#PARQUET\n",
    "#Escrevendo\n",
    "dfCloseOpen.write.mode(\"overwrite\").parquet(\"/home/jovyan/parquet/ABT.parquet\")"
   ]
  },
  {
   "cell_type": "code",
   "execution_count": 39,
   "id": "b215cf85",
   "metadata": {},
   "outputs": [],
   "source": [
    "#Lendo\n",
    "dfParquet = spark.read.parquet(\"/home/jovyan/parquet/ABT.parquet\")"
   ]
  },
  {
   "cell_type": "code",
   "execution_count": 40,
   "id": "99eecb96",
   "metadata": {},
   "outputs": [
    {
     "name": "stdout",
     "output_type": "stream",
     "text": [
      "+----------+-------+----------------+-----------------+-----------------+-----------------+-----------------+------------------+----+-----+---+\n",
      "|      date| volume|            open|             high|              low|            close|         adjclose|        close/open|Year|Month|Day|\n",
      "+----------+-------+----------------+-----------------+-----------------+-----------------+-----------------+------------------+----+-----+---+\n",
      "|2020-07-02|3845300|            92.5|93.05999755859375|91.93000030517578| 92.2300033569336| 92.2300033569336| 0.997081117372255|2020|    7|  2|\n",
      "|2020-07-01|3389600|91.9800033569336| 91.9800033569336|90.43000030517578|91.63999938964844|91.63999938964844|0.9963035012516172|2020|    7|  1|\n",
      "+----------+-------+----------------+-----------------+-----------------+-----------------+-----------------+------------------+----+-----+---+\n",
      "only showing top 2 rows\n",
      "\n"
     ]
    }
   ],
   "source": [
    "dfParquet.show(2)"
   ]
  },
  {
   "cell_type": "code",
   "execution_count": 42,
   "id": "84d237d0",
   "metadata": {},
   "outputs": [],
   "source": [
    "#Consultas no DF como se fosse SQL\n",
    "from pyspark.sql import SQLContext"
   ]
  },
  {
   "cell_type": "code",
   "execution_count": 41,
   "id": "da57ac88",
   "metadata": {},
   "outputs": [],
   "source": [
    "#Criar uma view temporaria\n",
    "dfParquet.createOrReplaceTempView(\"myTable\")"
   ]
  },
  {
   "cell_type": "code",
   "execution_count": 44,
   "id": "2e213292",
   "metadata": {},
   "outputs": [],
   "source": [
    "#Fazendo a consulta e armazenando os resultados\n",
    "sql = spark.sql(\"select * from myTable where close > 92\")"
   ]
  },
  {
   "cell_type": "code",
   "execution_count": 45,
   "id": "8c600efa",
   "metadata": {},
   "outputs": [
    {
     "name": "stdout",
     "output_type": "stream",
     "text": [
      "+----------+-------+----------------+-----------------+-----------------+-----------------+-----------------+-----------------+----+-----+---+\n",
      "|      date| volume|            open|             high|              low|            close|         adjclose|       close/open|Year|Month|Day|\n",
      "+----------+-------+----------------+-----------------+-----------------+-----------------+-----------------+-----------------+----+-----+---+\n",
      "|2020-07-02|3845300|            92.5|93.05999755859375|91.93000030517578| 92.2300033569336| 92.2300033569336|0.997081117372255|2020|    7|  2|\n",
      "|2020-06-10|5829100|90.8499984741211|            92.75|90.63999938964844|92.16000366210938|92.16000366210938|1.014419429939357|2020|    6| 10|\n",
      "|2020-06-08|5426800|88.9800033569336|92.61000061035156|88.91000366210938|92.55999755859375|92.55999755859375|1.040233693713175|2020|    6|  8|\n",
      "+----------+-------+----------------+-----------------+-----------------+-----------------+-----------------+-----------------+----+-----+---+\n",
      "only showing top 3 rows\n",
      "\n"
     ]
    }
   ],
   "source": [
    "sql.show(3)"
   ]
  },
  {
   "cell_type": "code",
   "execution_count": null,
   "id": "a61979fa",
   "metadata": {},
   "outputs": [],
   "source": []
  }
 ],
 "metadata": {
  "kernelspec": {
   "display_name": "Python 3",
   "language": "python",
   "name": "python3"
  },
  "language_info": {
   "codemirror_mode": {
    "name": "ipython",
    "version": 3
   },
   "file_extension": ".py",
   "mimetype": "text/x-python",
   "name": "python",
   "nbconvert_exporter": "python",
   "pygments_lexer": "ipython3",
   "version": "3.9.4"
  }
 },
 "nbformat": 4,
 "nbformat_minor": 5
}
